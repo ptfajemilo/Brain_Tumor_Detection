{
 "cells": [
  {
   "cell_type": "code",
   "execution_count": 1,
   "id": "fe69ae07",
   "metadata": {},
   "outputs": [],
   "source": [
    "import cv2\n",
    "from keras.models import load_model\n",
    "model=load_model('BrainTumor10Epochs.h4')"
   ]
  },
  {
   "cell_type": "code",
   "execution_count": 2,
   "id": "898baac6",
   "metadata": {},
   "outputs": [],
   "source": [
    "image= cv2.imread(r\"C:\\Users\\hp\\Desktop\\code\\Brain Tumor\\pred\\pred2.jpg\")\n"
   ]
  },
  {
   "cell_type": "code",
   "execution_count": 3,
   "id": "867c48b7",
   "metadata": {},
   "outputs": [],
   "source": [
    "from PIL import Image\n",
    "import numpy as np"
   ]
  },
  {
   "cell_type": "code",
   "execution_count": 4,
   "id": "6153d484",
   "metadata": {},
   "outputs": [],
   "source": [
    "img = Image.fromarray(image)\n",
    "img = img.resize((64,64))"
   ]
  },
  {
   "cell_type": "code",
   "execution_count": 5,
   "id": "f75bff95",
   "metadata": {},
   "outputs": [],
   "source": [
    "img=np.array(img)\n",
    "input_img = np.expand_dims(img, axis=0)"
   ]
  },
  {
   "cell_type": "code",
   "execution_count": 6,
   "id": "2d4a51c2",
   "metadata": {},
   "outputs": [
    {
     "data": {
      "text/plain": [
       "array([[1.]], dtype=float32)"
      ]
     },
     "execution_count": 6,
     "metadata": {},
     "output_type": "execute_result"
    }
   ],
   "source": [
    "predict_x=model.predict(input_img ) \n",
    "predict_x"
   ]
  }
 ],
 "metadata": {
  "kernelspec": {
   "display_name": "Python 3 (ipykernel)",
   "language": "python",
   "name": "python3"
  },
  "language_info": {
   "codemirror_mode": {
    "name": "ipython",
    "version": 3
   },
   "file_extension": ".py",
   "mimetype": "text/x-python",
   "name": "python",
   "nbconvert_exporter": "python",
   "pygments_lexer": "ipython3",
   "version": "3.9.12"
  }
 },
 "nbformat": 4,
 "nbformat_minor": 5
}
